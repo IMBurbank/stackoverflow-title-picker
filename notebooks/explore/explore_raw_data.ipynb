{
 "cells": [
  {
   "cell_type": "code",
   "execution_count": 1,
   "metadata": {},
   "outputs": [],
   "source": [
    "import pandas as pd\n",
    "from sklearn.model_selection import train_test_split"
   ]
  },
  {
   "cell_type": "code",
   "execution_count": 2,
   "metadata": {},
   "outputs": [
    {
     "name": "stdout",
     "output_type": "stream",
     "text": [
      "Train: {traindf.shape[0]:,} rows {traindf.shape[1]:,} columns\n",
      "Test: {testdf.shape[0]:,} rows {testdf.shape[1]:,} columns\n"
     ]
    },
    {
     "data": {
      "text/html": [
       "<div>\n",
       "<style scoped>\n",
       "    .dataframe tbody tr th:only-of-type {\n",
       "        vertical-align: middle;\n",
       "    }\n",
       "\n",
       "    .dataframe tbody tr th {\n",
       "        vertical-align: top;\n",
       "    }\n",
       "\n",
       "    .dataframe thead th {\n",
       "        text-align: right;\n",
       "    }\n",
       "</style>\n",
       "<table border=\"1\" class=\"dataframe\">\n",
       "  <thead>\n",
       "    <tr style=\"text-align: right;\">\n",
       "      <th></th>\n",
       "      <th>score</th>\n",
       "      <th>favorite_count</th>\n",
       "      <th>view_count</th>\n",
       "      <th>answer_count</th>\n",
       "      <th>link</th>\n",
       "      <th>title</th>\n",
       "      <th>body</th>\n",
       "      <th>tags</th>\n",
       "    </tr>\n",
       "  </thead>\n",
       "  <tbody>\n",
       "    <tr>\n",
       "      <th>32721</th>\n",
       "      <td>5</td>\n",
       "      <td>1.0</td>\n",
       "      <td>32281</td>\n",
       "      <td>4</td>\n",
       "      <td>https://stackoverflow.com/questions/2174519/ho...</td>\n",
       "      <td>How to include boost::thread in your C++ project?</td>\n",
       "      <td>&lt;p&gt;What do I need to do to include boost::thre...</td>\n",
       "      <td>c++|boost|multithreading</td>\n",
       "    </tr>\n",
       "    <tr>\n",
       "      <th>56113</th>\n",
       "      <td>5</td>\n",
       "      <td>2.0</td>\n",
       "      <td>915</td>\n",
       "      <td>1</td>\n",
       "      <td>https://stackoverflow.com/questions/42609008/s...</td>\n",
       "      <td>SSO with Laravel Passport</td>\n",
       "      <td>&lt;p&gt;I'm thinking to develop a full-fledged Iden...</td>\n",
       "      <td>laravel|laravel-5|oauth-2.0|saml-2.0|simplesam...</td>\n",
       "    </tr>\n",
       "    <tr>\n",
       "      <th>24826</th>\n",
       "      <td>6</td>\n",
       "      <td>0.0</td>\n",
       "      <td>691</td>\n",
       "      <td>3</td>\n",
       "      <td>https://stackoverflow.com/questions/11609673/c...</td>\n",
       "      <td>Create video file on Windows Phone 7</td>\n",
       "      <td>&lt;p&gt;Is it possible to create programmatically v...</td>\n",
       "      <td>c#|silverlight|windows-phone-7|video</td>\n",
       "    </tr>\n",
       "  </tbody>\n",
       "</table>\n",
       "</div>"
      ],
      "text/plain": [
       "       score  favorite_count  view_count  answer_count  \\\n",
       "32721      5             1.0       32281             4   \n",
       "56113      5             2.0         915             1   \n",
       "24826      6             0.0         691             3   \n",
       "\n",
       "                                                    link  \\\n",
       "32721  https://stackoverflow.com/questions/2174519/ho...   \n",
       "56113  https://stackoverflow.com/questions/42609008/s...   \n",
       "24826  https://stackoverflow.com/questions/11609673/c...   \n",
       "\n",
       "                                                   title  \\\n",
       "32721  How to include boost::thread in your C++ project?   \n",
       "56113                          SSO with Laravel Passport   \n",
       "24826               Create video file on Windows Phone 7   \n",
       "\n",
       "                                                    body  \\\n",
       "32721  <p>What do I need to do to include boost::thre...   \n",
       "56113  <p>I'm thinking to develop a full-fledged Iden...   \n",
       "24826  <p>Is it possible to create programmatically v...   \n",
       "\n",
       "                                                    tags  \n",
       "32721                           c++|boost|multithreading  \n",
       "56113  laravel|laravel-5|oauth-2.0|saml-2.0|simplesam...  \n",
       "24826               c#|silverlight|windows-phone-7|video  "
      ]
     },
     "execution_count": 2,
     "metadata": {},
     "output_type": "execute_result"
    }
   ],
   "source": [
    "# Assign data file path\n",
    "data_file='../../assets/data/raw_samples/query_181021%2F000000000000.csv'\n",
    "\n",
    "# Read in data sample 2000 rows (for speed of tutorial)\n",
    "# Set this to False to train on the entire dataset\n",
    "use_sample_data=True\n",
    "\n",
    "if use_sample_data:\n",
    "    data_size=2000\n",
    "    sample_df = pd.read_csv(data_file)\n",
    "else:\n",
    "    traindf, testdf = train_test_split(pd.read_csv(data_file),test_size=.10)\n",
    "\n",
    "\n",
    "#print out stats about shape of data\n",
    "print('Train: {traindf.shape[0]:,} rows {traindf.shape[1]:,} columns')\n",
    "print('Test: {testdf.shape[0]:,} rows {testdf.shape[1]:,} columns')\n",
    "\n",
    "# preview data\n",
    "traindf.head(3)"
   ]
  },
  {
   "cell_type": "code",
   "execution_count": 3,
   "metadata": {},
   "outputs": [
    {
     "data": {
      "text/plain": [
       "'<p>What do I need to do to include boost::thread in my project?  I have copied the whole thread folder to my working path (I wish to be able to run this on several computers) and I get </p>\\n\\n<blockquote>\\n  <p>fatal error C1083: Cannot open include\\n  file:\\n  \\'boost/thread/detail/platform.hpp\\': No\\n  such file or directory</p>\\n</blockquote>\\n\\n<p>From the line <code>#include \"thread/thread.hpp\"</code></p>\\n\\n<p>What gives?</p>\\n\\n<p><strong>edit:</strong>\\nEven if I just link to the boost folder where the precompiled binary installed and I use <code>#include &lt;boost/thread/thread.hpp&gt;</code> I get </p>\\n\\n<blockquote>\\n  <p>fatal error LNK1104: cannot open file\\n  \\'libboost_thread-vc90-mt-1_41.lib\\'</p>\\n</blockquote>'"
      ]
     },
     "execution_count": 3,
     "metadata": {},
     "output_type": "execute_result"
    }
   ],
   "source": [
    "train_body_raw = traindf.body.tolist()\n",
    "train_title_raw = traindf.title.tolist()\n",
    "#preview output of first element\n",
    "train_body_raw[0]"
   ]
  },
  {
   "cell_type": "code",
   "execution_count": 4,
   "metadata": {},
   "outputs": [
    {
     "ename": "SyntaxError",
     "evalue": "invalid syntax (preprocess.py, line 246)",
     "output_type": "error",
     "traceback": [
      "Traceback \u001b[0;36m(most recent call last)\u001b[0m:\n",
      "  File \u001b[1;32m\"/usr/local/lib/python3.5/dist-packages/IPython/core/interactiveshell.py\"\u001b[0m, line \u001b[1;32m3265\u001b[0m, in \u001b[1;35mrun_code\u001b[0m\n    exec(code_obj, self.user_global_ns, self.user_ns)\n",
      "\u001b[0;36m  File \u001b[0;32m\"<ipython-input-4-00cda71c2ce5>\"\u001b[0;36m, line \u001b[0;32m3\u001b[0;36m, in \u001b[0;35m<module>\u001b[0;36m\u001b[0m\n\u001b[0;31m    from ktext.preprocess import processor\u001b[0m\n",
      "\u001b[0;36m  File \u001b[0;32m\"/usr/local/lib/python3.5/dist-packages/ktext/preprocess.py\"\u001b[0;36m, line \u001b[0;32m246\u001b[0m\n\u001b[0;31m    self.doc_length_huerestic = histdf.query(f'cumsum_pct >= {hueristic}').bin.head(1).values[0]\u001b[0m\n\u001b[0m                                                                        ^\u001b[0m\n\u001b[0;31mSyntaxError\u001b[0m\u001b[0;31m:\u001b[0m invalid syntax\n"
     ]
    }
   ],
   "source": [
    "%reload_ext autoreload\n",
    "%autoreload 2\n",
    "from ktext.preprocess import processor"
   ]
  },
  {
   "cell_type": "code",
   "execution_count": null,
   "metadata": {},
   "outputs": [],
   "source": []
  }
 ],
 "metadata": {
  "kernelspec": {
   "display_name": "Python 3",
   "language": "python",
   "name": "python3"
  },
  "language_info": {
   "codemirror_mode": {
    "name": "ipython",
    "version": 3
   },
   "file_extension": ".py",
   "mimetype": "text/x-python",
   "name": "python",
   "nbconvert_exporter": "python",
   "pygments_lexer": "ipython3",
   "version": "3.6.6"
  }
 },
 "nbformat": 4,
 "nbformat_minor": 2
}
